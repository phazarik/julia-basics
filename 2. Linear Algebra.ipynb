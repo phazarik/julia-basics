{
 "cells": [
  {
   "cell_type": "markdown",
   "id": "6d099fe7",
   "metadata": {},
   "source": [
    "# Linear Algebra with Julia\n",
    "\n",
    "The syntax of julia is developed in a way that is intuitive to physicists and mathematicians.<br>\n",
    "Declaring matrices is very easy. The columns are separated by a space and the rows are separated by a semi-colon (or a comma).<br>\n",
    "Instead of printing the matrix like a list, you can use the `display()` feature of jupyter notebook."
   ]
  },
  {
   "cell_type": "code",
   "execution_count": 1,
   "id": "c51c3c26",
   "metadata": {},
   "outputs": [
    {
     "name": "stdout",
     "output_type": "stream",
     "text": [
      "Matrix A = \n"
     ]
    },
    {
     "data": {
      "text/plain": [
       "3×3 Matrix{Int64}:\n",
       " 1  2   3\n",
       " 4  5   6\n",
       " 7  8  10"
      ]
     },
     "metadata": {},
     "output_type": "display_data"
    }
   ],
   "source": [
    "A = [1 2 3 ; 4 5 6 ; 7 8 10]\n",
    "\n",
    "println(\"Matrix A = \")\n",
    "display(A)"
   ]
  },
  {
   "cell_type": "markdown",
   "id": "c694c9cf",
   "metadata": {},
   "source": [
    "# Vectors\n",
    "\n",
    "Let's take the example of vectors from the previous notebook.\n",
    "\n",
    "### Using Arrays to represent vectors"
   ]
  },
  {
   "cell_type": "code",
   "execution_count": 2,
   "id": "c2c7d0fc",
   "metadata": {},
   "outputs": [
    {
     "name": "stdout",
     "output_type": "stream",
     "text": [
      "We have the following covariant and contravariant vectors:\n"
     ]
    },
    {
     "data": {
      "text/plain": [
       "1×3 Matrix{Int64}:\n",
       " 1  2  3"
      ]
     },
     "metadata": {},
     "output_type": "display_data"
    },
    {
     "data": {
      "text/plain": [
       "3-element Vector{Int64}:\n",
       " 4\n",
       " 5\n",
       " 6"
      ]
     },
     "metadata": {},
     "output_type": "display_data"
    },
    {
     "name": "stdout",
     "output_type": "stream",
     "text": [
      "The type of the covariant vector in this example is Matrix{Int64}\n",
      "The type of the contravariant vector in this example is Vector{Int64}\n"
     ]
    }
   ],
   "source": [
    "covariant_vector = [1 2 3] #row vector\n",
    "contravariant_vector = [4 ; 5 ; 6] #column vector\n",
    "\n",
    "println(\"We have the following covariant and contravariant vectors:\")\n",
    "display(covariant_vector)\n",
    "display(contravariant_vector)\n",
    "\n",
    "println(\"The type of the covariant vector in this example is $(typeof(covariant_vector))\")\n",
    "println(\"The type of the contravariant vector in this example is $(typeof(contravariant_vector))\")"
   ]
  },
  {
   "cell_type": "markdown",
   "id": "0bcf6b2a",
   "metadata": {},
   "source": [
    "### Vector addition/subtraction\n",
    "You can't do addition or subtraction, if the dimensions of the input arrays do not match. For example, if we take the above two examples, this is what happens."
   ]
  },
  {
   "cell_type": "code",
   "execution_count": 3,
   "id": "bdac56f1",
   "metadata": {},
   "outputs": [
    {
     "name": "stdout",
     "output_type": "stream",
     "text": [
      "Dimensions of the covariant vector = (1, 3)\n",
      "Dimensions of the contravariant vector = (3,)\n"
     ]
    },
    {
     "ename": "LoadError",
     "evalue": "DimensionMismatch: dimensions must match: a has dims (Base.OneTo(1), Base.OneTo(3)), b has dims (Base.OneTo(3),), mismatch at 1",
     "output_type": "error",
     "traceback": [
      "DimensionMismatch: dimensions must match: a has dims (Base.OneTo(1), Base.OneTo(3)), b has dims (Base.OneTo(3),), mismatch at 1",
      "",
      "Stacktrace:",
      " [1] promote_shape",
      "   @ ./indices.jl:178 [inlined]",
      " [2] promote_shape(a::Matrix{Int64}, b::Vector{Int64})",
      "   @ Base ./indices.jl:169",
      " [3] +(A::Matrix{Int64}, Bs::Vector{Int64})",
      "   @ Base ./arraymath.jl:14",
      " [4] top-level scope",
      "   @ In[3]:4"
     ]
    }
   ],
   "source": [
    "println(\"Dimensions of the covariant vector = $(size(covariant_vector))\")\n",
    "println(\"Dimensions of the contravariant vector = $(size(contravariant_vector))\")\n",
    "\n",
    "added = covariant_vector + contravariant_vector"
   ]
  },
  {
   "cell_type": "markdown",
   "id": "7eeb2517",
   "metadata": {},
   "source": [
    "You can avoid these kind of bugs by making your codes 'idiot-proof' using an `if` condition."
   ]
  },
  {
   "cell_type": "code",
   "execution_count": 4,
   "id": "9a628b79",
   "metadata": {},
   "outputs": [
    {
     "name": "stdout",
     "output_type": "stream",
     "text": [
      "The covariant vector added to itself is :\n"
     ]
    },
    {
     "data": {
      "text/plain": [
       "1×3 Matrix{Int64}:\n",
       " 2  4  6"
      ]
     },
     "metadata": {},
     "output_type": "display_data"
    },
    {
     "name": "stdout",
     "output_type": "stream",
     "text": [
      "Which is equivalent to 2 times the covariant vector:\n"
     ]
    },
    {
     "data": {
      "text/plain": [
       "1×3 Matrix{Int64}:\n",
       " 2  4  6"
      ]
     },
     "metadata": {},
     "output_type": "display_data"
    },
    {
     "name": "stdout",
     "output_type": "stream",
     "text": [
      "Adding a scalar to the 2*covariant vector:\n"
     ]
    },
    {
     "data": {
      "text/plain": [
       "1×3 Matrix{Int64}:\n",
       " 5  7  9"
      ]
     },
     "metadata": {},
     "output_type": "display_data"
    }
   ],
   "source": [
    "println(\"The covariant vector added to itself is :\")\n",
    "display(covariant_vector + covariant_vector)\n",
    "println(\"Which is equivalent to 2 times the covariant vector:\")\n",
    "display(2*covariant_vector)\n",
    "println(\"Adding a scalar to the 2*covariant vector:\")\n",
    "display(2*covariant_vector.+3) #Notice the '.' before adding the scalar."
   ]
  },
  {
   "cell_type": "markdown",
   "id": "2c3e1a60",
   "metadata": {},
   "source": [
    "### Vector dot-product and cross-product\n",
    "\n",
    "To work with standard vector operations, the `LinearAlgebra` module is used.<br>\n",
    "The `dot()` and `cross()` functions work for `Vector` type objects (1D vertical arrays).<br>\n",
    "1D horizontal arrays are of the `Matrix` type, and need to be converted to the `Vector` type using `vec()` before using the vector operations."
   ]
  },
  {
   "cell_type": "code",
   "execution_count": 5,
   "id": "e325bee0",
   "metadata": {},
   "outputs": [
    {
     "name": "stdout",
     "output_type": "stream",
     "text": [
      "The two vectors are : [1, 2, 3] and [4, 5, 6]\n",
      "The dot-product is 32 and the cross-product is [-3, 6, -3]\n"
     ]
    }
   ],
   "source": [
    "using LinearAlgebra\n",
    "\n",
    "vec1 = [1, 2, 3]\n",
    "vec2 = [4, 5, 6]\n",
    "println(\"The two vectors are : $vec1 and $vec2\")\n",
    "\n",
    "dot_product = dot(vec1, vec2)\n",
    "cross_product = cross(vec1, vec2)\n",
    "\n",
    "println(\"The dot-product is $dot_product and the cross-product is $cross_product\")"
   ]
  },
  {
   "cell_type": "markdown",
   "id": "b18ffcc8",
   "metadata": {},
   "source": [
    "# Matrices\n",
    "\n",
    "### Determinant, trace and inverse\n",
    "\n",
    "The `LinearAlgebra` module is also used to work with the [standard matrix operations](https://docs.julialang.org/en/v1/stdlib/LinearAlgebra/)."
   ]
  },
  {
   "cell_type": "code",
   "execution_count": 6,
   "id": "c9bf5e2d",
   "metadata": {},
   "outputs": [
    {
     "name": "stdout",
     "output_type": "stream",
     "text": [
      "Trace of matrix A is: 16\n",
      "Determinant of matrix A is: -3.0\n",
      "The following matrix is the inverse of A :\n"
     ]
    },
    {
     "data": {
      "text/plain": [
       "3×3 Matrix{Float64}:\n",
       " -0.666667  -1.33333   1.0\n",
       " -0.666667   3.66667  -2.0\n",
       "  1.0       -2.0       1.0"
      ]
     },
     "metadata": {},
     "output_type": "display_data"
    }
   ],
   "source": [
    "using LinearAlgebra\n",
    "\n",
    "A = [1 2 3 ; 4 5 6 ; 7 8 10]\n",
    "\n",
    "trA = tr(A)\n",
    "println(\"Trace of matrix A is: $trA\")\n",
    "\n",
    "detA = det(A)\n",
    "println(\"Determinant of matrix A is: $detA\")\n",
    "\n",
    "invA = inv(A)\n",
    "println(\"The following matrix is the inverse of A :\")\n",
    "display(invA)"
   ]
  },
  {
   "cell_type": "markdown",
   "id": "20297f28",
   "metadata": {},
   "source": [
    "### Making inverse calculation idiot-proof\n",
    "In the previous example, I deliberately chose the matrix to be non-singular (non-zero determinant). <br>\n",
    "Singular matrices have zero determinant, and their inverse does not exist. In such cases, you'll run into errors like this.<br>"
   ]
  },
  {
   "cell_type": "code",
   "execution_count": 7,
   "id": "4f72fb37",
   "metadata": {},
   "outputs": [
    {
     "name": "stdout",
     "output_type": "stream",
     "text": [
      "The following is an example of a singular matrix.\n"
     ]
    },
    {
     "data": {
      "text/plain": [
       "3×3 Matrix{Int64}:\n",
       " 1  2  3\n",
       " 4  5  6\n",
       " 7  8  9"
      ]
     },
     "metadata": {},
     "output_type": "display_data"
    },
    {
     "name": "stdout",
     "output_type": "stream",
     "text": [
      "Determinant of this matrix is: 0.0\n",
      "Trying to calculate inverse ....\n"
     ]
    },
    {
     "ename": "LoadError",
     "evalue": "SingularException(3)",
     "output_type": "error",
     "traceback": [
      "SingularException(3)",
      "",
      "Stacktrace:",
      " [1] checknonsingular",
      "   @ ~/julia-1.9.3/share/julia/stdlib/v1.9/LinearAlgebra/src/factorization.jl:19 [inlined]",
      " [2] checknonsingular",
      "   @ ~/julia-1.9.3/share/julia/stdlib/v1.9/LinearAlgebra/src/factorization.jl:22 [inlined]",
      " [3] #lu!#170",
      "   @ ~/julia-1.9.3/share/julia/stdlib/v1.9/LinearAlgebra/src/lu.jl:82 [inlined]",
      " [4] lu!",
      "   @ ~/julia-1.9.3/share/julia/stdlib/v1.9/LinearAlgebra/src/lu.jl:80 [inlined]",
      " [5] #lu#176",
      "   @ ~/julia-1.9.3/share/julia/stdlib/v1.9/LinearAlgebra/src/lu.jl:299 [inlined]",
      " [6] lu (repeats 2 times)",
      "   @ ~/julia-1.9.3/share/julia/stdlib/v1.9/LinearAlgebra/src/lu.jl:298 [inlined]",
      " [7] inv(A::Matrix{Int64})",
      "   @ LinearAlgebra ~/julia-1.9.3/share/julia/stdlib/v1.9/LinearAlgebra/src/dense.jl:917",
      " [8] top-level scope",
      "   @ In[7]:9"
     ]
    }
   ],
   "source": [
    "O = [1 2 3 ; 4 5 6 ; 7 8 9]\n",
    "println(\"The following is an example of a singular matrix.\")\n",
    "display(O)\n",
    "\n",
    "detO = det(O)\n",
    "println(\"Determinant of this matrix is: $detO\")\n",
    "\n",
    "println(\"Trying to calculate inverse ....\")\n",
    "invO = inv(O)"
   ]
  },
  {
   "cell_type": "markdown",
   "id": "acd6f6ef",
   "metadata": {},
   "source": [
    "This is why, **always make sure that the matrices involving inverse-calculation are non-singular.**<br>\n",
    "A simple `if` condition should save you.\n",
    "\n",
    "### Matrix multiplication\n",
    "This is extremely easy!<br>\n",
    "Let's pick the matrix A and multiply with it's inverse. We expect an identitiy matrix as the result."
   ]
  },
  {
   "cell_type": "code",
   "execution_count": 8,
   "id": "7b1b077b",
   "metadata": {},
   "outputs": [
    {
     "data": {
      "text/plain": [
       "3×3 Matrix{Float64}:\n",
       "  1.0          0.0   0.0\n",
       " -8.88178e-16  1.0  -8.88178e-16\n",
       "  0.0          0.0   1.0"
      ]
     },
     "execution_count": 8,
     "metadata": {},
     "output_type": "execute_result"
    }
   ],
   "source": [
    "result = A * invA"
   ]
  },
  {
   "cell_type": "markdown",
   "id": "55b93532",
   "metadata": {},
   "source": [
    "A mathematician would argue that this is not *exactly* an inverse, but experimental physicists like me are okay with it. I guess the small non-zero values are coming from the precision error of `int` type variables stored in the transistors. That's life. There is nothing we can do.\n",
    "\n",
    "> **Note :** the matrix-multiplication feature is available without importing the `LinearAlgebra` module.\n",
    "\n",
    "### Solving a set of linear equations\n",
    "Now that we have mastered matrix multiplication, we can easily solve a set of linear equations.<br>\n",
    "Consider the following example. Suppose you have a set of equations in the form `AX = B` as shown below.\n",
    "```\n",
    "2x + y + 2z = 1\n",
    "4x + 3z = –5\n",
    "5y + 4z = 1\n",
    "```\n",
    "Here `A` is a square matrix, and `B` is a column matrix. The solution for `[x ; y ; z]` is simply given by `B/A`. But in the julia syntax, it is written as `A\\B`."
   ]
  },
  {
   "cell_type": "code",
   "execution_count": 9,
   "id": "4debf2d4",
   "metadata": {},
   "outputs": [
    {
     "data": {
      "text/plain": [
       "3×3 Matrix{Int64}:\n",
       " 2  1  2\n",
       " 4  0  3\n",
       " 0  5  4"
      ]
     },
     "metadata": {},
     "output_type": "display_data"
    },
    {
     "data": {
      "text/plain": [
       "3-element Vector{Int64}:\n",
       "  1\n",
       " -5\n",
       "  1"
      ]
     },
     "metadata": {},
     "output_type": "display_data"
    },
    {
     "name": "stdout",
     "output_type": "stream",
     "text": [
      "The solution is given by the following matrix.\n"
     ]
    },
    {
     "data": {
      "text/plain": [
       "3-element Vector{Float64}:\n",
       "   7.0000000000000036\n",
       "   9.000000000000004\n",
       " -11.000000000000005"
      ]
     },
     "metadata": {},
     "output_type": "display_data"
    }
   ],
   "source": [
    "A = [2 1 2 ; 4 0 3 ; 0 5 4]\n",
    "B = [1 ; -5 ; 1]\n",
    "display(A)\n",
    "display(B)\n",
    "\n",
    "detA = det(A)\n",
    "\n",
    "if detA == 0\n",
    "    println(\"A is a singular matrix, solution does not exist.\")\n",
    "else \n",
    "    X = A\\B\n",
    "    println(\"The solution is given by the following matrix.\")\n",
    "    display(X)\n",
    "end"
   ]
  },
  {
   "cell_type": "markdown",
   "id": "3e8ef2ce",
   "metadata": {},
   "source": [
    "Let's see if the result is the same if we do `invA*B`.<br>\n",
    "(not `B*invA`, because order matters!)"
   ]
  },
  {
   "cell_type": "code",
   "execution_count": 10,
   "id": "f8a2a0cb",
   "metadata": {},
   "outputs": [
    {
     "name": "stdout",
     "output_type": "stream",
     "text": [
      "The solution is given by the following matrix.\n"
     ]
    },
    {
     "data": {
      "text/plain": [
       "3-element Vector{Float64}:\n",
       "   7.000000000000005\n",
       "   9.000000000000005\n",
       " -11.000000000000005"
      ]
     },
     "metadata": {},
     "output_type": "display_data"
    }
   ],
   "source": [
    "if detA == 0\n",
    "    println(\"A is a singular matrix, solution does not exist.\")\n",
    "else \n",
    "    X = inv(A)*B\n",
    "    println(\"The solution is given by the following matrix.\")\n",
    "    display(X)\n",
    "end"
   ]
  },
  {
   "cell_type": "markdown",
   "id": "1deae7df",
   "metadata": {},
   "source": [
    "### Eigenvalues and eigenvectors\n",
    "\n",
    "Let's pick Pauli's matrices, so that we can verify whether the results are correct or not.<br>\n",
    "$\\sigma_z$ = [1 0 ; 0 -1] has two eigenvalues : +1 and -1 corresponding to the respective eigenvectors [1 ; 0] and [0, 1]."
   ]
  },
  {
   "cell_type": "code",
   "execution_count": 11,
   "id": "d0330e87",
   "metadata": {},
   "outputs": [
    {
     "data": {
      "text/latex": [
       "$\\sigma_z = $"
      ],
      "text/plain": [
       "L\"$\\sigma_z = $\""
      ]
     },
     "metadata": {},
     "output_type": "display_data"
    },
    {
     "data": {
      "text/plain": [
       "2×2 Matrix{Int64}:\n",
       " 1   0\n",
       " 0  -1"
      ]
     },
     "metadata": {},
     "output_type": "display_data"
    },
    {
     "name": "stdout",
     "output_type": "stream",
     "text": [
      "The eigenvalues are:\n"
     ]
    },
    {
     "data": {
      "text/plain": [
       "2-element Vector{Float64}:\n",
       " -1.0\n",
       "  1.0"
      ]
     },
     "metadata": {},
     "output_type": "display_data"
    },
    {
     "name": "stdout",
     "output_type": "stream",
     "text": [
      "The corresponding eigenvectors are:\n"
     ]
    },
    {
     "data": {
      "text/plain": [
       "2×2 Matrix{Float64}:\n",
       " 0.0  1.0\n",
       " 1.0  0.0"
      ]
     },
     "metadata": {},
     "output_type": "display_data"
    }
   ],
   "source": [
    "using LaTeXStrings #For displaying sigma_z in notebook\n",
    "\n",
    "sigz = [1 0 ; 0 -1]\n",
    "\n",
    "latex_str = L\"\\sigma_z = \"\n",
    "display(latex_str)\n",
    "display(sigz)\n",
    "\n",
    "println(\"The eigenvalues are:\")\n",
    "display(eigvals(sigz))\n",
    "    \n",
    "println(\"The corresponding eigenvectors are:\")\n",
    "display(eigvecs(sigz))"
   ]
  },
  {
   "cell_type": "markdown",
   "id": "91252850",
   "metadata": {},
   "source": [
    "As you can see, -1.0 corresponds to [0.0 ; 1.0] and 1.0 corresponds to [1.0 ; 0.0].<br>\n",
    "I don't know how it decided the order to display the eigenvalues. I am guessing it prefers the ascending order.\n",
    "> **Note :** I am also using `LatexStrings` in this example. This package can be installed by doing the following in julia prompt.<br>\n",
    "> `import Pkg`<br>\n",
    "> `Pkg.add(\"LaTeXStrings\")`\n",
    "\n",
    "The advanced linear algebra features can be found [here](https://docs.julialang.org/en/v1/stdlib/LinearAlgebra/)."
   ]
  },
  {
   "cell_type": "code",
   "execution_count": null,
   "id": "e010b67b",
   "metadata": {},
   "outputs": [],
   "source": []
  }
 ],
 "metadata": {
  "kernelspec": {
   "display_name": "Julia 1.9.3",
   "language": "julia",
   "name": "julia-1.9"
  },
  "language_info": {
   "file_extension": ".jl",
   "mimetype": "application/julia",
   "name": "julia",
   "version": "1.9.3"
  }
 },
 "nbformat": 4,
 "nbformat_minor": 5
}
