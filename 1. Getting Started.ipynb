{
 "cells": [
  {
   "cell_type": "markdown",
   "id": "d1d150cf",
   "metadata": {},
   "source": [
    "# Installing Julia\n",
    "\n",
    "### Downloading the tarball\n",
    "The recommended way to install jupyter is to unpack the tarball and use the binary there. The tarball can be found in the following link - \n",
    "https://julialang.org/downloads\n",
    "\n",
    "### Using the binary\n",
    "I have downloaded julia v1.9.3 for linux (64-bit glibc GPG) and unpacked the tarball in my home area. Inside the `bin` directory there is an executable binary named `julia`. You can either source the path to this bin folder by adding somthing like the following in your `.bashrc` -\n",
    "```sh\n",
    "export PATH=\"$PATH:/home/username/julia-1.9.3/bin\"\n",
    "```\n",
    "OR include the binary in your `/usr/local/bin` by creating a symbolic link as shown below.\n",
    "```sh\n",
    "sudo ln -s /home/username/julia-1.9.3/bin /usr/local/bin/julia\n",
    "```\n",
    "I did the later.<br>\n",
    "After this step, typing julia should bring you inside the julia prompt.\n",
    "\n",
    "<img src=\"images/julia-prompt.png\" alt=\"julia prompt\" />\n",
    "\n",
    "Julia scripts have a `.jl` extension, and can be executed just like python.\n",
    "```sh\n",
    "julia scriptname.jl\n",
    "```\n",
    "However, I like to use IJulia in jupyter notebook.\n",
    "\n",
    "### Installing IJulia for jupyter\n",
    "For using julia through notebook, you only need to install the interactive julia (IJulia). This can be done from the julia prompt.\n",
    "```python\n",
    "~>julia\n",
    "julia>using Pkg\n",
    "julia>Pkg.add(\"IJulia\")\n",
    "```\n",
    "\n",
    "### Installing other packages\n",
    "The following link contains the available julia packages. They can be installe din the same way as the above example.<br>\n",
    "https://juliapackages.com/"
   ]
  },
  {
   "cell_type": "markdown",
   "id": "f6195b1d",
   "metadata": {},
   "source": [
    "---\n",
    "\n",
    "# Hello-world\n",
    "\n",
    "After installing IJulia, an additional option for kernel should be included in notebook.<br>\n",
    "The `print()` function in Julia is used to display output without appending a newline character at the end, while `println()` is used to display output and append a newline character at the end."
   ]
  },
  {
   "cell_type": "code",
   "execution_count": 1,
   "id": "61106ac1",
   "metadata": {
    "scrolled": true
   },
   "outputs": [
    {
     "name": "stdout",
     "output_type": "stream",
     "text": [
      "Hello world!"
     ]
    }
   ],
   "source": [
    "print(\"Hello \")\n",
    "print(\"world!\")"
   ]
  },
  {
   "cell_type": "code",
   "execution_count": 2,
   "id": "f6ae0e4f",
   "metadata": {},
   "outputs": [
    {
     "name": "stdout",
     "output_type": "stream",
     "text": [
      "Hello \n",
      "world!\n"
     ]
    }
   ],
   "source": [
    "println(\"Hello \")\n",
    "println(\"world!\")"
   ]
  },
  {
   "cell_type": "markdown",
   "id": "0c45fbf8",
   "metadata": {},
   "source": [
    "# Comparing with python and C++\n",
    "I found the following paper on arxiv which discusses Julia as a potential language for high energy physics.<br>\n",
    "https://arxiv.org/abs/2306.03675\n",
    "\n",
    "### Performance\n",
    "Julia is designed to perform faster than python. It utilizes a just-in-time (JIT) compilation approach, which combines the best aspects of both interpreted and compiled languages. I picked up a plot from reddit, showing the time consumed by the different languages while calculating $\\pi$.\n",
    "<img src=\"images/julia-performance.jpg\" alt=\"julia performance\" width=\"50%\"/>\n",
    "\n",
    "### Variables\n",
    "\n",
    "Let's look at some basic features of the variable types in Julia:\n",
    "\n",
    "- **Dynamic Typing:** Julia is dynamically typed, just like python, meaning you don't need to declare the variable type explicitly.\n",
    "- **Type Annotations:** Type annotations can be used to indicate the expected data type, but they are not enforced during runtime. For example, in python you can do - `x: int = 5`. In julia, you do the same by doing - `x::Int = 5`.\n",
    "- **Type Conversion:**  Python allows for explicit type conversion using functions like `int()`, `float()`, `str()`, and others to convert variables from one type to another. Julia also supports these kind of type conversion with functions like `convert()`.\n",
    "- **Single vs double quotes:** `\" \"` and `' '` have different meaning in julia. `\" \"` means `str` type, while `' '` is `char` type.\n",
    "- Just like python, julia also has lists, arrays and dictionaries. The syntax is discussed later.\n",
    "\n",
    "### Type conversions\n",
    "In julia, \n",
    "- `parse(<type>, <string>)` function converts a string to any number type.\n",
    "- `trunc(<type>, <float>)` converts floating point values to integers.\n",
    "- `float(<int>)` converts integers to float.\n",
    "- `string(<anytype>)` converts its arguments to string."
   ]
  },
  {
   "cell_type": "code",
   "execution_count": 3,
   "id": "5ba3b77a",
   "metadata": {},
   "outputs": [
    {
     "name": "stdout",
     "output_type": "stream",
     "text": [
      "Type of the 'num' is Int64\n",
      "Type of the 'integer' is Int64\n",
      "Type of the 'floating' is Float64\n",
      "Type of the 'str' is String\n"
     ]
    }
   ],
   "source": [
    "num = \"12\"\n",
    "num = parse(Int64, num)\n",
    "println(\"Type of the 'num' is $(typeof(num))\")\n",
    "\n",
    "floating = 3.7890\n",
    "integer = trunc(Int64, floating)\n",
    "println(\"Type of the 'integer' is $(typeof(integer))\")\n",
    "\n",
    "floating = float(integer)\n",
    "println(\"Type of the 'floating' is $(typeof(floating))\")\n",
    "\n",
    "str = string(floating)\n",
    "println(\"Type of the 'str' is $(typeof(str))\")"
   ]
  },
  {
   "cell_type": "markdown",
   "id": "4bcabe3a",
   "metadata": {},
   "source": [
    "> **Note :** f-string type string formatting is not available in julia. You have to use the dollar (\\\\$) symbol.<br>\n",
    "> In this example, eveything within the brackets after the \\\\$ is a variable."
   ]
  },
  {
   "cell_type": "markdown",
   "id": "2a00827e",
   "metadata": {},
   "source": [
    "---\n",
    "\n",
    "# Arrays\n",
    "\n",
    "Let's start with 1D arrays first. In julia arrays, elements separated by commas/semicolons are arranged vertically. This is the default format for 1D-arrays. These are stored as `Vector` types. Similarly, elements separated by spaces are arranged horizontally. These are stored as `Matrix` (row) types. You can think of these as covariant and contravariant vectors from tensor analysis."
   ]
  },
  {
   "cell_type": "code",
   "execution_count": 4,
   "id": "07284821",
   "metadata": {},
   "outputs": [
    {
     "name": "stdout",
     "output_type": "stream",
     "text": [
      "We have the following covariant and contravariant vectors:\n"
     ]
    },
    {
     "data": {
      "text/plain": [
       "1×3 Matrix{Int64}:\n",
       " 1  2  3"
      ]
     },
     "metadata": {},
     "output_type": "display_data"
    },
    {
     "data": {
      "text/plain": [
       "3-element Vector{Int64}:\n",
       " 4\n",
       " 5\n",
       " 6"
      ]
     },
     "metadata": {},
     "output_type": "display_data"
    },
    {
     "name": "stdout",
     "output_type": "stream",
     "text": [
      "The type of the covariant vector in this example is Matrix{Int64}\n",
      "The type of the contravariant vector in this example is Vector{Int64}\n"
     ]
    }
   ],
   "source": [
    "covariant_vector = [1 2 3] #row vector\n",
    "contravariant_vector = [4 ; 5 ; 6] #column vector\n",
    "\n",
    "println(\"We have the following covariant and contravariant vectors:\")\n",
    "display(covariant_vector)\n",
    "display(contravariant_vector)\n",
    "\n",
    "println(\"The type of the covariant vector in this example is $(typeof(covariant_vector))\")\n",
    "println(\"The type of the contravariant vector in this example is $(typeof(contravariant_vector))\")"
   ]
  },
  {
   "cell_type": "markdown",
   "id": "0f54526f",
   "metadata": {},
   "source": [
    "> **Note :** With simple numbers, semicolon and comma are identical in arrays, but not in other cases. For example, if `A` is a matrix, then `[A,A]` is a vector of matrices, while `[A;A]` is a matrix combined (concatenated) from the two pieces.\n",
    "\n",
    "You can also create undeclared arrays using `Array{type}(dims)` and empty arrays using `<type>[]`. For example,"
   ]
  },
  {
   "cell_type": "code",
   "execution_count": 5,
   "id": "125a22e0",
   "metadata": {},
   "outputs": [
    {
     "data": {
      "text/plain": [
       "3-element Vector{Int64}:\n",
       " 140551019657200\n",
       " 140551019644400\n",
       "               1"
      ]
     },
     "metadata": {},
     "output_type": "display_data"
    },
    {
     "data": {
      "text/plain": [
       "Int64[]"
      ]
     },
     "metadata": {},
     "output_type": "display_data"
    }
   ],
   "source": [
    "arr = Array{Int64}(undef, 3) #undef means, values are random.\n",
    "display(arr)\n",
    "\n",
    "empty_arr = Int64[]\n",
    "display(empty_arr)"
   ]
  },
  {
   "cell_type": "markdown",
   "id": "27138337",
   "metadata": {},
   "source": [
    "### Creating arrays using range objects\n",
    "- `collect(start:step:stop)` creates an array from `start` to `stop` in steps of `step`. This is similar to `range()` in python.\n",
    "- The `range()` function is julia is more advanced. It gives you a `range` type object, which can be given as an input to a `collect()` function in order to get what you want. Consider the following two examples."
   ]
  },
  {
   "cell_type": "code",
   "execution_count": 6,
   "id": "15563ff6",
   "metadata": {},
   "outputs": [
    {
     "name": "stdout",
     "output_type": "stream",
     "text": [
      "EXAMPLE 1\n"
     ]
    },
    {
     "data": {
      "text/plain": [
       "1.0:12.25:50.0"
      ]
     },
     "metadata": {},
     "output_type": "display_data"
    },
    {
     "name": "stdout",
     "output_type": "stream",
     "text": [
      "Type of this range object is - StepRangeLen{Float64, Base.TwicePrecision{Float64}, Base.TwicePrecision{Float64}, Int64}\n",
      "It generates the following array -\n"
     ]
    },
    {
     "data": {
      "text/plain": [
       "5-element Vector{Float64}:\n",
       "  1.0\n",
       " 13.25\n",
       " 25.5\n",
       " 37.75\n",
       " 50.0"
      ]
     },
     "metadata": {},
     "output_type": "display_data"
    },
    {
     "name": "stdout",
     "output_type": "stream",
     "text": [
      "EXAMPLE 2\n"
     ]
    },
    {
     "data": {
      "text/plain": [
       "1:10:51"
      ]
     },
     "metadata": {},
     "output_type": "display_data"
    },
    {
     "name": "stdout",
     "output_type": "stream",
     "text": [
      "Type of this range object is - StepRange{Int64, Int64}\n",
      "It generates the following array -\n"
     ]
    },
    {
     "data": {
      "text/plain": [
       "6-element Vector{Int64}:\n",
       "  1\n",
       " 11\n",
       " 21\n",
       " 31\n",
       " 41\n",
       " 51"
      ]
     },
     "metadata": {},
     "output_type": "display_data"
    }
   ],
   "source": [
    "#Example 1 : Having a control over how many steps you want.\n",
    "println(\"EXAMPLE 1\")\n",
    "range1 = range(1, length=5, stop=50) #Start from 1, end at 50 in EXACTLY 15 steps.\n",
    "display(range1)\n",
    "println(\"Type of this range object is - $(typeof(range1))\")\n",
    "println(\"It generates the following array -\")\n",
    "display(collect(range1))\n",
    "\n",
    "#Example 2 : Having a control over the step-size.\n",
    "println(\"EXAMPLE 2\")\n",
    "range2 = range(1, stop=55, step=10) #Start from 1, take steps of length 10, end at or before 55\n",
    "display(range2)\n",
    "println(\"Type of this range object is - $(typeof(range2))\")\n",
    "println(\"It generates the following array -\")\n",
    "display(collect(range2))"
   ]
  },
  {
   "cell_type": "markdown",
   "id": "b0060571",
   "metadata": {},
   "source": [
    "### Creating arrays using comprehensions and generators\n",
    "Once you have a range object, you can create an array by running a loop for the elements of the range. For example,"
   ]
  },
  {
   "cell_type": "code",
   "execution_count": 7,
   "id": "92402fa3",
   "metadata": {},
   "outputs": [
    {
     "data": {
      "text/plain": [
       "5-element Vector{Int64}:\n",
       "  1\n",
       "  4\n",
       "  9\n",
       " 16\n",
       " 25"
      ]
     },
     "metadata": {},
     "output_type": "display_data"
    },
    {
     "data": {
      "text/plain": [
       "5×4 Matrix{Int64}:\n",
       " 1   2   3   4\n",
       " 2   4   6   8\n",
       " 3   6   9  12\n",
       " 4   8  12  16\n",
       " 5  10  15  20"
      ]
     },
     "metadata": {},
     "output_type": "display_data"
    }
   ],
   "source": [
    "squared_integers = [n^2 for n in 1:5] #n=row\n",
    "display(squared_integers)\n",
    "\n",
    "#OR\n",
    "\n",
    "twoD_ints = [n*m for n in 1:5, m in 1:4] #n=row, m=column\n",
    "display(twoD_ints)"
   ]
  },
  {
   "cell_type": "markdown",
   "id": "3859d8f6",
   "metadata": {},
   "source": [
    "Given `m` and `n` dimensions (integers), you can also populate an array by doing `zeros(m, n)` or `ones(m, n)` or `rand(m, n)`. Checkout the other features of arrays here - https://www.tutorialspoint.com/julia/julia_arrays.htm\n",
    "\n",
    "### Accessing elements of an array\n",
    "- The element count starts with 1. That means, the first element is `arr[1]`.\n",
    "- The last and the second-last elements are `arr[end]` and `arr[end-1]` respectively.\n",
    "- Multiple elements can be accessed by giving a list of indiced as, `arr[[index1,index2,index3]]`.\n",
    "- In case of 2D arrays, you can use `arr2D[row_index, col_index]`.\n",
    "The following are woprking examples."
   ]
  },
  {
   "cell_type": "code",
   "execution_count": 8,
   "id": "6416b98b",
   "metadata": {},
   "outputs": [
    {
     "data": {
      "text/plain": [
       "1×5 Matrix{Int64}:\n",
       " 1  2  3  4  5"
      ]
     },
     "metadata": {},
     "output_type": "display_data"
    },
    {
     "name": "stdout",
     "output_type": "stream",
     "text": [
      "The first element is = 1\n",
      "The last element is = 5\n",
      "The 2nd-last element is = 4\n",
      "The 2nd and 3rd elements are = [2, 3]\n"
     ]
    },
    {
     "data": {
      "text/plain": [
       "3×2 Matrix{Int64}:\n",
       " 1  2\n",
       " 3  4\n",
       " 5  6"
      ]
     },
     "metadata": {},
     "output_type": "display_data"
    },
    {
     "name": "stdout",
     "output_type": "stream",
     "text": [
      "The element at location : row3, col2 is = 6\n"
     ]
    }
   ],
   "source": [
    "arr = [1 2 3 4 5]\n",
    "display(arr)\n",
    "\n",
    "println(\"The first element is = $(arr[1])\")\n",
    "println(\"The last element is = $(arr[end])\")\n",
    "println(\"The 2nd-last element is = $(arr[end-1])\")\n",
    "println(\"The 2nd and 3rd elements are = $(arr[[2,3]])\")\n",
    "\n",
    "arr2D = [1 2 ; 3 4; 5 6]\n",
    "display(arr2D)\n",
    "println(\"The element at location : row3, col2 is = $(arr2D[3, 2])\")"
   ]
  },
  {
   "cell_type": "markdown",
   "id": "6b2384c6",
   "metadata": {},
   "source": [
    "### Pushing back and removing elements in 1D-arrays:\n",
    "New elements can be pushed back at the end, first and at any index of an array by using the following functions.\n",
    "- `push!(arr, ele)` : adds an element at the end.\n",
    "- `pushfirst!(arr, ele)` : adds an element at the first.\n",
    "- `splice!(arr, index, value)` : replaces an element at the given index.<br>\n",
    "However, **these work for vertical arrays only.** (because horizontal arrays are of the `Matrix` type.)"
   ]
  },
  {
   "cell_type": "code",
   "execution_count": 9,
   "id": "cd5d8adb",
   "metadata": {},
   "outputs": [
    {
     "name": "stdout",
     "output_type": "stream",
     "text": [
      "Original array:\n"
     ]
    },
    {
     "data": {
      "text/plain": [
       "5-element Vector{Int64}:\n",
       " 1\n",
       " 2\n",
       " 3\n",
       " 4\n",
       " 5"
      ]
     },
     "metadata": {},
     "output_type": "display_data"
    },
    {
     "name": "stdout",
     "output_type": "stream",
     "text": [
      "After pushing two values at the beginning and end:\n"
     ]
    },
    {
     "data": {
      "text/plain": [
       "7-element Vector{Int64}:\n",
       " 0\n",
       " 1\n",
       " 2\n",
       " 3\n",
       " 4\n",
       " 5\n",
       " 6"
      ]
     },
     "metadata": {},
     "output_type": "display_data"
    },
    {
     "name": "stdout",
     "output_type": "stream",
     "text": [
      "After replacing the 5th element by 10\n"
     ]
    },
    {
     "data": {
      "text/plain": [
       "7-element Vector{Int64}:\n",
       "  0\n",
       "  1\n",
       "  2\n",
       "  3\n",
       " 10\n",
       "  5\n",
       "  6"
      ]
     },
     "metadata": {},
     "output_type": "display_data"
    }
   ],
   "source": [
    "arrv = [1; 2; 3; 4; 5]\n",
    "println(\"Original array:\")\n",
    "display(arrv)\n",
    "\n",
    "println(\"After pushing two values at the beginning and end:\")\n",
    "push!(arrv, 6)\n",
    "pushfirst!(arrv, 0)\n",
    "display(arrv)\n",
    "\n",
    "println(\"After replacing the 5th element by 10\")\n",
    "splice!(arrv, 5, 10)\n",
    "display(arrv)"
   ]
  },
  {
   "cell_type": "markdown",
   "id": "ab46f627",
   "metadata": {},
   "source": [
    "Without any argument, `splice(arr, index)` will simply remove the element at that index. Th functions `pop!()` and `popfirst!()` follows the same logic. Tuples can be used in the same way as python. I am not going to repeat that here."
   ]
  },
  {
   "cell_type": "markdown",
   "id": "cad1553b",
   "metadata": {},
   "source": [
    "---\n",
    "\n",
    "# If, For, While and Functions\n",
    "\n",
    "If conditions, for/while loops and functions behave the same as in python. **Indentation matters!**<br>\n",
    "The syntax is just a bit different. The developers got rid of the annoying colon, and you need to mention the end.\n",
    "\n",
    "### if, elseif, else\n",
    "The basic syntax of julia if conditions is the following.\n",
    "```julia\n",
    "if boolean1\n",
    "    #do somehting\n",
    "elseif boolean2\n",
    "    #do something else\n",
    "else\n",
    "    #do something else\n",
    "end\n",
    "```\n",
    "The same logic is followed for the other things too.\n",
    "\n",
    "### for loops\n",
    "```julia\n",
    "for i in <#=range object OR list/array=#>\n",
    "    #do something\n",
    "end\n",
    "```\n",
    "\n",
    "### while loops\n",
    "```julia\n",
    "while some_logic\n",
    "    #do somehting\n",
    "    #update logic\n",
    "end\n",
    "```\n",
    "\n",
    "### Functions\n",
    "```julia\n",
    "function function_name(args)\n",
    "    #expression\n",
    "    #expression\n",
    "    #expression\n",
    "    #...\n",
    "    #expression\n",
    "end\n",
    "```\n",
    "\n",
    "---\n",
    "\n",
    "# Dictionaries\n",
    "This is the last basic thing I'll cover.<br>\n",
    "The julia-syntax for a dictionary is a bit different from python. It has the following structure.<br>\n",
    "`Dict(“key1” => value1, “key2” => value2,,…, “keyn” => valuen)`"
   ]
  },
  {
   "cell_type": "code",
   "execution_count": 10,
   "id": "cb96e6fe",
   "metadata": {},
   "outputs": [
    {
     "name": "stdout",
     "output_type": "stream",
     "text": [
      "Here is a julia dictionary:\n"
     ]
    },
    {
     "data": {
      "text/plain": [
       "Dict{String, Int64} with 2 entries:\n",
       "  \"B\" => 2\n",
       "  \"A\" => 1"
      ]
     },
     "metadata": {},
     "output_type": "display_data"
    },
    {
     "name": "stdout",
     "output_type": "stream",
     "text": [
      "Here is the same dictionary with another key,value pair added:\n"
     ]
    },
    {
     "data": {
      "text/plain": [
       "Dict{String, Int64} with 3 entries:\n",
       "  \"B\" => 2\n",
       "  \"A\" => 1\n",
       "  \"C\" => 3"
      ]
     },
     "metadata": {},
     "output_type": "display_data"
    }
   ],
   "source": [
    "dict = Dict(\"A\"=>1, \"B\"=>2)\n",
    "\n",
    "println(\"Here is a julia dictionary:\")\n",
    "display(dict)\n",
    "\n",
    "#Adding another key:\n",
    "dict[\"C\"] = 3\n",
    "\n",
    "println(\"Here is the same dictionary with another key,value pair added:\")\n",
    "display(dict)"
   ]
  },
  {
   "cell_type": "markdown",
   "id": "c3f4fee9",
   "metadata": {},
   "source": [
    "In julia, **the order of keys in a dictionary is not guaranteed.** When you print the dictionary, the order of the key-value pairs might not necessarily reflect the order in which they were added. If you need to maintain the order of elements, you might consider using an ordered dictionary implementation, such as the `OrderedDict` from the `DataStructures` package.\n",
    "\n",
    "### Ordered dictionaries"
   ]
  },
  {
   "cell_type": "code",
   "execution_count": 11,
   "id": "fbda7c17",
   "metadata": {},
   "outputs": [
    {
     "name": "stdout",
     "output_type": "stream",
     "text": [
      "Here is an ordered dictionary:\n"
     ]
    },
    {
     "data": {
      "text/plain": [
       "OrderedDict{String, Int64} with 2 entries:\n",
       "  \"A\" => 1\n",
       "  \"B\" => 2"
      ]
     },
     "metadata": {},
     "output_type": "display_data"
    },
    {
     "name": "stdout",
     "output_type": "stream",
     "text": [
      "Here is the same dictionary with another key,value pair added:\n"
     ]
    },
    {
     "data": {
      "text/plain": [
       "OrderedDict{String, Int64} with 3 entries:\n",
       "  \"A\" => 1\n",
       "  \"B\" => 2\n",
       "  \"C\" => 3"
      ]
     },
     "metadata": {},
     "output_type": "display_data"
    }
   ],
   "source": [
    "using DataStructures\n",
    "\n",
    "dict = OrderedDict(\"A\"=>1, \"B\"=>2)\n",
    "println(\"Here is an ordered dictionary:\")\n",
    "display(dict)\n",
    "\n",
    "# Adding another key\n",
    "dict[\"C\"] = 3\n",
    "println(\"Here is the same dictionary with another key,value pair added:\")\n",
    "display(dict)"
   ]
  },
  {
   "cell_type": "markdown",
   "id": "34916360",
   "metadata": {},
   "source": [
    "Here are some features of dictionaries which will be handy later.\n",
    "- Deleting a key : `delete!(dict, \"key\")`\n",
    "- Getting a list of keys : `keys(dict)`\n",
    "- Getting a list of values : `values(dict)`"
   ]
  },
  {
   "cell_type": "markdown",
   "id": "a554e743",
   "metadata": {},
   "source": [
    "### Looping over key-value pairs:"
   ]
  },
  {
   "cell_type": "code",
   "execution_count": 12,
   "id": "4dba23a0",
   "metadata": {},
   "outputs": [
    {
     "name": "stdout",
     "output_type": "stream",
     "text": [
      "\"A\" => 1\n",
      "\"B\" => 2\n",
      "\"C\" => 3\n",
      "\n",
      "This is how a key-value pair looks like : \"A\" => 1\n",
      "It is of the type : Pair{String, Int64}\n",
      "key = A\n",
      "value = 1\n"
     ]
    }
   ],
   "source": [
    "for kv in dict\n",
    "    println(kv)\n",
    "end\n",
    "\n",
    "#Let's investigate one key-value pair:\n",
    "for kv in dict\n",
    "    println(\"\\nThis is how a key-value pair looks like : $kv\")\n",
    "    println(\"It is of the type : $(typeof(kv))\")\n",
    "    println(\"key = $(kv[1])\")\n",
    "    println(\"value = $(kv[2])\")\n",
    "    break\n",
    "end"
   ]
  },
  {
   "cell_type": "markdown",
   "id": "da58b0f2",
   "metadata": {},
   "source": [
    "It is evident that kv is a tuple that contains each key-value pair. You can access the key and value just like the elements of a 1D array. You can perform the following operations on dictionaries:\n",
    "- `union(dict1, dict2)`\n",
    "- `intersect(dict1, dict2)`\n",
    "- `setdiff(dict1, dict2)`\n",
    "- `merge(dict1, dict2)`\n",
    ".. etc"
   ]
  },
  {
   "cell_type": "code",
   "execution_count": 13,
   "id": "c8a57b9d",
   "metadata": {},
   "outputs": [
    {
     "name": "stdout",
     "output_type": "stream",
     "text": [
      "The following 4 dictionaries are results of union, intersection, difference and merge respectively.\n"
     ]
    },
    {
     "data": {
      "text/plain": [
       "6-element Vector{Pair{String, Int64}}:\n",
       " \"A\" => 1\n",
       " \"B\" => 2\n",
       " \"C\" => 3\n",
       " \"D\" => 4\n",
       " \"A\" => 6\n",
       " \"E\" => 5"
      ]
     },
     "metadata": {},
     "output_type": "display_data"
    },
    {
     "data": {
      "text/plain": [
       "1-element Vector{Pair{String, Int64}}:\n",
       " \"D\" => 4"
      ]
     },
     "metadata": {},
     "output_type": "display_data"
    },
    {
     "data": {
      "text/plain": [
       "3-element Vector{Pair{String, Int64}}:\n",
       " \"A\" => 1\n",
       " \"B\" => 2\n",
       " \"C\" => 3"
      ]
     },
     "metadata": {},
     "output_type": "display_data"
    },
    {
     "data": {
      "text/plain": [
       "OrderedDict{String, Int64} with 5 entries:\n",
       "  \"A\" => 6\n",
       "  \"B\" => 2\n",
       "  \"C\" => 3\n",
       "  \"D\" => 4\n",
       "  \"E\" => 5"
      ]
     },
     "metadata": {},
     "output_type": "display_data"
    }
   ],
   "source": [
    "dict1 = OrderedDict(\"A\"=>1, \"B\"=>2, \"C\"=>3, \"D\"=>4)\n",
    "dict2 = OrderedDict(\"A\"=>6, \"D\"=>4, \"E\"=>5)\n",
    "\n",
    "united = union(dict1, dict2)\n",
    "intersected = intersect(dict1, dict2)\n",
    "diff = setdiff(dict1, dict2)\n",
    "merged = merge(dict1, dict2)\n",
    "\n",
    "println(\"The following 4 dictionaries are results of union, intersection, difference and merge respectively.\")\n",
    "display(united)\n",
    "display(intersected)\n",
    "display(diff)\n",
    "display(merged)"
   ]
  },
  {
   "cell_type": "markdown",
   "id": "00f46449",
   "metadata": {},
   "source": [
    "I deliberately put a conflicting key `\"A\"` with two different values in these dictionaries to see what happens. It turns out that `union()` merges the two dictionaries while preserving the duplicate elements (without reordering the keys), while `merge()` replaces the values of any common keys from the second dictionary. `intersect()` only keeps the identical key-value pairs, and `setdiff` removes the common key-value pairs from the first dict.\n",
    "\n",
    "I think this is enough for basics. In the [next notebook](2.%20Linear%20Algebra.ipynb), I am discussing some physics-motivated stuff."
   ]
  },
  {
   "cell_type": "code",
   "execution_count": null,
   "id": "553b1e1e",
   "metadata": {},
   "outputs": [],
   "source": []
  }
 ],
 "metadata": {
  "kernelspec": {
   "display_name": "Julia 1.9.3",
   "language": "julia",
   "name": "julia-1.9"
  },
  "language_info": {
   "file_extension": ".jl",
   "mimetype": "application/julia",
   "name": "julia",
   "version": "1.9.3"
  }
 },
 "nbformat": 4,
 "nbformat_minor": 5
}
