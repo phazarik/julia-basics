{
 "cells": [
  {
   "cell_type": "markdown",
   "id": "d1d150cf",
   "metadata": {},
   "source": [
    "# Installing Julia\n",
    "\n",
    "### Downloading the tarball\n",
    "The recommended way to install jupyter is to unpack the tarball and use the binary there. The tarball can be found in the following link - \n",
    "https://julialang.org/downloads\n",
    "\n",
    "### Using the binary\n",
    "I have downloaded julia v1.9.3 for linux (64-bit glibc GPG) and unpacked the tarball in my home area. Inside the `bin` directory there is an executable binary named `julia`. You can either source the path to this bin folder by adding somthing like the following in your `.bashrc` -\n",
    "```sh\n",
    "export PATH=\"$PATH:/home/username/julia-1.9.3/bin\"\n",
    "```\n",
    "OR include the binary in your `/usr/local/bin` by creating a symbolic link as shown below.\n",
    "```sh\n",
    "sudo ln -s /home/username/julia-1.9.3/bin /usr/local/bin/julia\n",
    "```\n",
    "I did the later.<br>\n",
    "After this step, typing julia should bring you inside the julia prompt.\n",
    "\n",
    "<img src=\"images/julia-prompt.png\" alt=\"julia prompt\" />\n",
    "\n",
    "Julia scripts have a `.jl` extension, and can be executed just like python.\n",
    "```sh\n",
    "julia scriptname.jl\n",
    "```\n",
    "However, I like to use IJulia in jupyter notebook.\n",
    "\n",
    "### Installing IJulia for jupyter\n",
    "For using julia through notebook, you only need to install the interactive julia (IJulia). This can be done from the julia prompt.\n",
    "```python\n",
    "~>julia\n",
    "julia>using Pkg\n",
    "julia>Pkg.add(\"IJulia\")\n",
    "```"
   ]
  },
  {
   "cell_type": "markdown",
   "id": "f6195b1d",
   "metadata": {},
   "source": [
    "---\n",
    "\n",
    "# Hello-world\n",
    "\n",
    "After installing IJulia, an additional option for kernel should be included in notebook.<br>\n",
    "The `print()` function in Julia is used to display output without appending a newline character at the end, while `println()` is used to display output and append a newline character at the end."
   ]
  },
  {
   "cell_type": "code",
   "execution_count": 1,
   "id": "61106ac1",
   "metadata": {
    "scrolled": true
   },
   "outputs": [
    {
     "name": "stdout",
     "output_type": "stream",
     "text": [
      "Hello world!"
     ]
    }
   ],
   "source": [
    "print(\"Hello \")\n",
    "print(\"world!\")"
   ]
  },
  {
   "cell_type": "code",
   "execution_count": 2,
   "id": "f6ae0e4f",
   "metadata": {},
   "outputs": [
    {
     "name": "stdout",
     "output_type": "stream",
     "text": [
      "Hello \n",
      "world!\n"
     ]
    }
   ],
   "source": [
    "println(\"Hello \")\n",
    "println(\"world!\")"
   ]
  },
  {
   "cell_type": "markdown",
   "id": "0c45fbf8",
   "metadata": {},
   "source": [
    "# Comparing with python and C++\n",
    "I found the following paper on arxiv which discusses Julia as a potential language for high energy physics.<br>\n",
    "https://arxiv.org/abs/2306.03675\n",
    "\n",
    "### Variable types\n",
    "\n",
    "Let's look at some basic features of the variable types in Julia:\n",
    "\n",
    "- **Dynamic Typing:** Julia is dynamically typed, just like python, meaning you don't need to declare the variable type explicitly.\n",
    "- **Type Annotations:** Type annotations can be used to indicate the expected data type, but they are not enforced during runtime. For example, in python you can do - `x: int = 5`. In julia, you do the same by doing - `x::Int = 5`.\n",
    "- **Type Conversion:**  Python allows for explicit type conversion using functions like `int()`, `float()`, `str()`, and others to convert variables from one type to another. Julia also supports these kind of type conversion with functions like `convert()`.\n",
    "- **Single vs double quotes:** `\" \"` and `' '` have different meaning in julia. `\" \"` means `str` type, while `' '` is `char` type.\n",
    "- Just like python, julia also has lists, arrays and dictionaries. The syntax is discussed later.\n",
    "\n",
    "### Performance\n"
   ]
  },
  {
   "cell_type": "code",
   "execution_count": null,
   "id": "8f9677ab",
   "metadata": {},
   "outputs": [],
   "source": []
  }
 ],
 "metadata": {
  "kernelspec": {
   "display_name": "Julia 1.9.3",
   "language": "julia",
   "name": "julia-1.9"
  },
  "language_info": {
   "file_extension": ".jl",
   "mimetype": "application/julia",
   "name": "julia",
   "version": "1.9.3"
  }
 },
 "nbformat": 4,
 "nbformat_minor": 5
}
